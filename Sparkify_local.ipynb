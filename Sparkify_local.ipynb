{
 "cells": [
  {
   "cell_type": "markdown",
   "metadata": {},
   "source": [
    "# Sparkify Project Workspace\n",
    "This workspace contains a tiny subset (128MB) of the full dataset available (12GB). Feel free to use this workspace to build your project, or to explore a smaller subset with Spark before deploying your cluster on the cloud. Instructions for setting up your Spark cluster is included in the last lesson of the Extracurricular Spark Course content.\n",
    "\n",
    "You can follow the steps below to guide your data analysis and model building portion of this project."
   ]
  },
  {
   "cell_type": "code",
   "execution_count": 55,
   "metadata": {},
   "outputs": [],
   "source": [
    "# import libraries\n",
    "from pyspark.sql import SparkSession\n",
    "from pyspark.sql.functions import count, avg, col, concat, desc, explode, lit, min, max, split, udf, when, isnull, collect_list\n",
    "from pyspark.sql.types import IntegerType, BooleanType, FloatType\n",
    "from pyspark.ml.feature import VectorAssembler, StandardScaler\n",
    "import pandas as pd\n",
    "import matplotlib.pyplot as plt\n",
    "%matplotlib inline\n",
    "\n",
    "from pyspark.ml.classification import LogisticRegression, GBTClassifier\n",
    "from pyspark.ml.evaluation import MulticlassClassificationEvaluator\n",
    "from pyspark.ml.tuning import CrossValidator, ParamGridBuilder"
   ]
  },
  {
   "cell_type": "code",
   "execution_count": 2,
   "metadata": {},
   "outputs": [],
   "source": [
    "# create a Spark session\n",
    "spark = SparkSession \\\n",
    "    .builder \\\n",
    "    .appName(\"Sparkify\") \\\n",
    "    .getOrCreate()"
   ]
  },
  {
   "cell_type": "markdown",
   "metadata": {},
   "source": [
    "# Load and Clean Dataset\n",
    "In this workspace, the mini-dataset file is `mini_sparkify_event_data.json`. Load and clean the dataset, checking for invalid or missing data - for example, records without userids or sessionids. "
   ]
  },
  {
   "cell_type": "code",
   "execution_count": 3,
   "metadata": {},
   "outputs": [
    {
     "data": {
      "text/plain": [
       "Row(artist='Martha Tilston', auth='Logged In', firstName='Colin', gender='M', itemInSession=50, lastName='Freeman', length=277.89016, level='paid', location='Bakersfield, CA', method='PUT', page='NextSong', registration=1538173362000, sessionId=29, song='Rockpools', status=200, ts=1538352117000, userAgent='Mozilla/5.0 (Windows NT 6.1; WOW64; rv:31.0) Gecko/20100101 Firefox/31.0', userId='30')"
      ]
     },
     "execution_count": 3,
     "metadata": {},
     "output_type": "execute_result"
    }
   ],
   "source": [
    "file_name = \"mini_sparkify_event_data.json\"\n",
    "df = spark.read.json(file_name)\n",
    "df.head()"
   ]
  },
  {
   "cell_type": "markdown",
   "metadata": {},
   "source": [
    "# Exploratory Data Analysis\n",
    "When you're working with the full dataset, perform EDA by loading a small subset of the data and doing basic manipulations within Spark. In this workspace, you are already provided a small subset of data you can explore.\n",
    "\n",
    "### Define Churn\n",
    "\n",
    "Once you've done some preliminary analysis, create a column `Churn` to use as the label for your model. I suggest using the `Cancellation Confirmation` events to define your churn, which happen for both paid and free users. As a bonus task, you can also look into the `Downgrade` events.\n",
    "\n",
    "### Explore Data\n",
    "Once you've defined churn, perform some exploratory data analysis to observe the behavior for users who stayed vs users who churned. You can start by exploring aggregates on these two groups of users, observing how much of a specific action they experienced per a certain time unit or number of songs played."
   ]
  },
  {
   "cell_type": "code",
   "execution_count": 4,
   "metadata": {},
   "outputs": [
    {
     "data": {
      "text/plain": [
       "['artist',\n",
       " 'auth',\n",
       " 'firstName',\n",
       " 'gender',\n",
       " 'itemInSession',\n",
       " 'lastName',\n",
       " 'length',\n",
       " 'level',\n",
       " 'location',\n",
       " 'method',\n",
       " 'page',\n",
       " 'registration',\n",
       " 'sessionId',\n",
       " 'song',\n",
       " 'status',\n",
       " 'ts',\n",
       " 'userAgent',\n",
       " 'userId']"
      ]
     },
     "execution_count": 4,
     "metadata": {},
     "output_type": "execute_result"
    }
   ],
   "source": [
    "df.columns"
   ]
  },
  {
   "cell_type": "code",
   "execution_count": 5,
   "metadata": {},
   "outputs": [
    {
     "data": {
      "text/plain": [
       "18"
      ]
     },
     "execution_count": 5,
     "metadata": {},
     "output_type": "execute_result"
    }
   ],
   "source": [
    "len(df.columns)"
   ]
  },
  {
   "cell_type": "code",
   "execution_count": 6,
   "metadata": {},
   "outputs": [
    {
     "data": {
      "text/plain": [
       "286500"
      ]
     },
     "execution_count": 6,
     "metadata": {},
     "output_type": "execute_result"
    }
   ],
   "source": [
    "df.count()"
   ]
  },
  {
   "cell_type": "code",
   "execution_count": 7,
   "metadata": {},
   "outputs": [
    {
     "name": "stdout",
     "output_type": "stream",
     "text": [
      "+------+----+---------+------+-------------+--------+------+-----+--------+------+----+------------+---------+-----+------+---+---------+------+\n",
      "|artist|auth|firstName|gender|itemInSession|lastName|length|level|location|method|page|registration|sessionId| song|status| ts|userAgent|userId|\n",
      "+------+----+---------+------+-------------+--------+------+-----+--------+------+----+------------+---------+-----+------+---+---------+------+\n",
      "| 58392|   0|     8346|  8346|            0|    8346| 58392|    0|    8346|     0|   0|        8346|        0|58392|     0|  0|     8346|     0|\n",
      "+------+----+---------+------+-------------+--------+------+-----+--------+------+----+------------+---------+-----+------+---+---------+------+\n",
      "\n"
     ]
    }
   ],
   "source": [
    "df.select([count(when(isnull(i), i)).alias(i) for i in df.columns]).show()"
   ]
  },
  {
   "cell_type": "code",
   "execution_count": 8,
   "metadata": {},
   "outputs": [
    {
     "name": "stdout",
     "output_type": "stream",
     "text": [
      "+----------+\n",
      "|      auth|\n",
      "+----------+\n",
      "|Logged Out|\n",
      "| Cancelled|\n",
      "|     Guest|\n",
      "| Logged In|\n",
      "+----------+\n",
      "\n"
     ]
    }
   ],
   "source": [
    "df.select('auth').distinct().show()"
   ]
  },
  {
   "cell_type": "code",
   "execution_count": 9,
   "metadata": {},
   "outputs": [
    {
     "name": "stdout",
     "output_type": "stream",
     "text": [
      "+-----+\n",
      "|level|\n",
      "+-----+\n",
      "| free|\n",
      "| paid|\n",
      "+-----+\n",
      "\n"
     ]
    }
   ],
   "source": [
    "df.select('level').distinct().show()"
   ]
  },
  {
   "cell_type": "code",
   "execution_count": 10,
   "metadata": {},
   "outputs": [
    {
     "name": "stdout",
     "output_type": "stream",
     "text": [
      "+------+\n",
      "|method|\n",
      "+------+\n",
      "|   PUT|\n",
      "|   GET|\n",
      "+------+\n",
      "\n"
     ]
    }
   ],
   "source": [
    "df.select('method').distinct().show()"
   ]
  },
  {
   "cell_type": "code",
   "execution_count": 11,
   "metadata": {},
   "outputs": [
    {
     "name": "stdout",
     "output_type": "stream",
     "text": [
      "+------+\n",
      "|status|\n",
      "+------+\n",
      "|   307|\n",
      "|   404|\n",
      "|   200|\n",
      "+------+\n",
      "\n"
     ]
    }
   ],
   "source": [
    "df.select('status').distinct().show()"
   ]
  },
  {
   "cell_type": "code",
   "execution_count": 12,
   "metadata": {},
   "outputs": [
    {
     "name": "stdout",
     "output_type": "stream",
     "text": [
      "+--------------------+\n",
      "|                page|\n",
      "+--------------------+\n",
      "|              Cancel|\n",
      "|    Submit Downgrade|\n",
      "|         Thumbs Down|\n",
      "|                Home|\n",
      "|           Downgrade|\n",
      "|         Roll Advert|\n",
      "|              Logout|\n",
      "|       Save Settings|\n",
      "|Cancellation Conf...|\n",
      "|               About|\n",
      "| Submit Registration|\n",
      "|            Settings|\n",
      "|               Login|\n",
      "|            Register|\n",
      "|     Add to Playlist|\n",
      "|          Add Friend|\n",
      "|            NextSong|\n",
      "|           Thumbs Up|\n",
      "|                Help|\n",
      "|             Upgrade|\n",
      "+--------------------+\n",
      "only showing top 20 rows\n",
      "\n"
     ]
    }
   ],
   "source": [
    "df.select('page').distinct().show()"
   ]
  },
  {
   "cell_type": "markdown",
   "metadata": {},
   "source": [
    "### Select useful fileds"
   ]
  },
  {
   "cell_type": "code",
   "execution_count": 13,
   "metadata": {},
   "outputs": [],
   "source": [
    "df_clean = df.select(\n",
    "                    'artist',\n",
    "                    'auth',\n",
    "                    'gender',\n",
    "                    'itemInSession',\n",
    "                    'length',\n",
    "                    'level',\n",
    "                    'location',\n",
    "                    'method',\n",
    "                    'page',\n",
    "                    'registration',\n",
    "                    'sessionId',\n",
    "                    'song',\n",
    "                    'status',\n",
    "                    'ts',\n",
    "                    'userAgent',\n",
    "                    'userId')"
   ]
  },
  {
   "cell_type": "code",
   "execution_count": 14,
   "metadata": {},
   "outputs": [
    {
     "data": {
      "text/plain": [
       "52"
      ]
     },
     "execution_count": 14,
     "metadata": {},
     "output_type": "execute_result"
    }
   ],
   "source": [
    "df_clean.where((col(\"auth\") == \"Cancelled\")).select(\"userId\").distinct().count()"
   ]
  },
  {
   "cell_type": "code",
   "execution_count": 15,
   "metadata": {},
   "outputs": [
    {
     "data": {
      "text/plain": [
       "226"
      ]
     },
     "execution_count": 15,
     "metadata": {},
     "output_type": "execute_result"
    }
   ],
   "source": [
    "df_clean.select(\"userId\").distinct().count()"
   ]
  },
  {
   "cell_type": "markdown",
   "metadata": {},
   "source": [
    "# Feature Engineering\n",
    "Once you've familiarized yourself with the data, build out the features you find promising to train your model on. To work with the full dataset, you can follow the following steps.\n",
    "- Write a script to extract the necessary features from the smaller subset of data\n",
    "- Ensure that your script is scalable, using the best practices discussed in Lesson 3\n",
    "- Try your script on the full data set, debugging your script if necessary\n",
    "\n",
    "If you are working in the classroom workspace, you can just extract features based on the small subset of data contained here. Be sure to transfer over this work to the larger dataset when you work on your Spark cluster."
   ]
  },
  {
   "cell_type": "markdown",
   "metadata": {},
   "source": [
    "### Define Churn"
   ]
  },
  {
   "cell_type": "code",
   "execution_count": 16,
   "metadata": {},
   "outputs": [
    {
     "name": "stdout",
     "output_type": "stream",
     "text": [
      "+------+-------+--------------------+---------+------+-------------+---------+-----+--------------------+------+--------+-------------+---------+--------------------+------+-------------+--------------------+\n",
      "|userId|Churned|              artist|     auth|gender|itemInSession|   length|level|            location|method|    page| registration|sessionId|                song|status|           ts|           userAgent|\n",
      "+------+-------+--------------------+---------+------+-------------+---------+-----+--------------------+------+--------+-------------+---------+--------------------+------+-------------+--------------------+\n",
      "|100003|   true|     Black Eyed Peas|Logged In|     F|            0|193.88036| free|Miami-Fort Lauder...|   PUT|NextSong|1537309344000|        3|          Gone Going|   200|1539100420000|Mozilla/5.0 (Wind...|\n",
      "|100003|   true|            Paramore|Logged In|     F|            1|193.56689| free|Miami-Fort Lauder...|   PUT|NextSong|1537309344000|        3|All We Know (Albu...|   200|1539100613000|Mozilla/5.0 (Wind...|\n",
      "|100003|   true| A Love Ends Suicide|Logged In|     F|            0|197.32853| free|Miami-Fort Lauder...|   PUT|NextSong|1537309344000|       86|     Heroes Of Faith|   200|1539263080000|Mozilla/5.0 (Wind...|\n",
      "|100003|   true|               Stars|Logged In|     F|            3|246.38649| free|Miami-Fort Lauder...|   PUT|NextSong|1537309344000|       86|            Personal|   200|1539263277000|Mozilla/5.0 (Wind...|\n",
      "|100003|   true|    Peter And Gordon|Logged In|     F|            4|158.22322| free|Miami-Fort Lauder...|   PUT|NextSong|1537309344000|       86|A Mess Of The Blu...|   200|1539263523000|Mozilla/5.0 (Wind...|\n",
      "|100003|   true|            Coldplay|Logged In|     F|            6|274.41587| free|Miami-Fort Lauder...|   PUT|NextSong|1537309344000|       86|          One I Love|   200|1539263681000|Mozilla/5.0 (Wind...|\n",
      "|100003|   true|        Mystery Jets|Logged In|     F|            8|207.90812| free|Miami-Fort Lauder...|   PUT|NextSong|1537309344000|       86|      Two Doors Down|   200|1539263955000|Mozilla/5.0 (Wind...|\n",
      "|100003|   true|              Surkin|Logged In|     F|           13|237.29587| free|Miami-Fort Lauder...|   PUT|NextSong|1537309344000|       86|         Next of Kin|   200|1539264162000|Mozilla/5.0 (Wind...|\n",
      "|100003|   true|          Alphaville|Logged In|     F|           15|285.43955| free|Miami-Fort Lauder...|   PUT|NextSong|1537309344000|       86|Big In Japan (Ori...|   200|1539264399000|Mozilla/5.0 (Wind...|\n",
      "|100003|   true|Citizen Cope feat...|Logged In|     F|           21|244.11383| free|Miami-Fort Lauder...|   PUT|NextSong|1537309344000|       86|    Son's Gonna Rise|   200|1539264684000|Mozilla/5.0 (Wind...|\n",
      "|100003|   true|        French Kicks|Logged In|     F|           22| 226.0371| free|Miami-Fort Lauder...|   PUT|NextSong|1537309344000|       86|Sunday Night Is Fair|   200|1539264928000|Mozilla/5.0 (Wind...|\n",
      "|100003|   true|       Faith No More|Logged In|     F|           23|395.36281| free|Miami-Fort Lauder...|   PUT|NextSong|1537309344000|       86|          Jizzlobber|   200|1539265154000|Mozilla/5.0 (Wind...|\n",
      "|100003|   true|                Gala|Logged In|     F|           24|235.44118| free|Miami-Fort Lauder...|   PUT|NextSong|1537309344000|       86|            Suddenly|   200|1539265549000|Mozilla/5.0 (Wind...|\n",
      "|100003|   true|P. Diddy feat. Th...|Logged In|     F|           25|277.86404| free|Miami-Fort Lauder...|   PUT|NextSong|1537309344000|       86|All About The Ben...|   200|1539265784000|Mozilla/5.0 (Wind...|\n",
      "|100003|   true|       Parkway Drive|Logged In|     F|           26| 48.56118| free|Miami-Fort Lauder...|   PUT|NextSong|1537309344000|       86|               Begin|   200|1539266061000|Mozilla/5.0 (Wind...|\n",
      "|100003|   true|         Spice Girls|Logged In|     F|           27|271.59465| free|Miami-Fort Lauder...|   PUT|NextSong|1537309344000|       86|            Too Much|   200|1539266109000|Mozilla/5.0 (Wind...|\n",
      "|100003|   true|       Kings Of Leon|Logged In|     F|           28|201.79546| free|Miami-Fort Lauder...|   PUT|NextSong|1537309344000|       86|             Revelry|   200|1539266380000|Mozilla/5.0 (Wind...|\n",
      "|100003|   true|Jack Johnson / Ma...|Logged In|     F|           29|167.23546| free|Miami-Fort Lauder...|   PUT|NextSong|1537309344000|       86|             Lullaby|   200|1539266581000|Mozilla/5.0 (Wind...|\n",
      "|100003|   true|       Tiziano Ferro|Logged In|     F|           30|251.42812| free|Miami-Fort Lauder...|   PUT|NextSong|1537309344000|       86|Ed Ero Contentissimo|   200|1539266748000|Mozilla/5.0 (Wind...|\n",
      "|100003|   true|                Tiga|Logged In|     F|           32|196.46649| free|Miami-Fort Lauder...|   PUT|NextSong|1537309344000|       86|  Louder Than A Bomb|   200|1539266999000|Mozilla/5.0 (Wind...|\n",
      "+------+-------+--------------------+---------+------+-------------+---------+-----+--------------------+------+--------+-------------+---------+--------------------+------+-------------+--------------------+\n",
      "only showing top 20 rows\n",
      "\n"
     ]
    }
   ],
   "source": [
    "df_churn = df_clean.groupby('userId').agg(collect_list('auth').alias(\"auths\"))\n",
    "churned = udf(lambda x: 'Cancelled' in x)\n",
    "df_churn = df_churn.withColumn(\"Churned\", churned(df_churn.auths))\n",
    "df_churn = df_churn.drop('auths')\n",
    "df_churn.show()"
   ]
  },
  {
   "cell_type": "code",
   "execution_count": 17,
   "metadata": {},
   "outputs": [
    {
     "name": "stdout",
     "output_type": "stream",
     "text": [
      "+------+-------+\n",
      "|userId|Churned|\n",
      "+------+-------+\n",
      "|100010|  false|\n",
      "|200002|  false|\n",
      "|   125|   true|\n",
      "|   124|  false|\n",
      "|    51|   true|\n",
      "|     7|  false|\n",
      "|    15|  false|\n",
      "|    54|   true|\n",
      "|   155|  false|\n",
      "|100014|   true|\n",
      "|   132|  false|\n",
      "|   154|  false|\n",
      "|   101|   true|\n",
      "|    11|  false|\n",
      "|   138|  false|\n",
      "|300017|  false|\n",
      "|100021|   true|\n",
      "|    29|   true|\n",
      "|    69|  false|\n",
      "|   112|  false|\n",
      "+------+-------+\n",
      "only showing top 20 rows\n",
      "\n"
     ]
    }
   ],
   "source": [
    "df_label = df_churn.join(df_clean,'userId')\n",
    "df_label.groupby(\"Churned\").avg(\"length\").collect()\n",
    "df_label.select([\"userId\",\"Churned\"]).distinct().groupBy(\"Churned\").count().collect()"
   ]
  },
  {
   "cell_type": "code",
   "execution_count": 21,
   "metadata": {},
   "outputs": [
    {
     "name": "stdout",
     "output_type": "stream",
     "text": [
      "+------+-----------+\n",
      "|userId|SongsPlayed|\n",
      "+------+-----------+\n",
      "|    10|        673|\n",
      "|   100|       2682|\n",
      "|100001|        133|\n",
      "|100002|        195|\n",
      "|100003|         51|\n",
      "|100004|        942|\n",
      "|100005|        154|\n",
      "|100006|         26|\n",
      "|100007|        423|\n",
      "|100008|        772|\n",
      "|100009|        518|\n",
      "|100010|        275|\n",
      "|100011|         11|\n",
      "|100012|        476|\n",
      "|100013|       1131|\n",
      "|100014|        257|\n",
      "|100015|        800|\n",
      "|100016|        530|\n",
      "|100017|         52|\n",
      "|100018|       1002|\n",
      "+------+-----------+\n",
      "only showing top 20 rows\n",
      "\n"
     ]
    }
   ],
   "source": [
    "songsPlayed = df_label.where(col('song')!='null').groupby(\"userId\").agg(count(col('song')).alias('SongsPlayed')).orderBy('userId')\n",
    "songsPlayed.show()"
   ]
  },
  {
   "cell_type": "code",
   "execution_count": 22,
   "metadata": {},
   "outputs": [],
   "source": [
    "df_features = df_churn.join(songsPlayed,'userId')"
   ]
  },
  {
   "cell_type": "code",
   "execution_count": null,
   "metadata": {},
   "outputs": [],
   "source": [
    "thumbsUp = df_label.where(df_label.page=='Thumbs Up').groupby(\"userId\").agg(count(col('page')).alias('ThumbsUp')).orderBy('userId')\n",
    "thumbsUp.show()"
   ]
  },
  {
   "cell_type": "code",
   "execution_count": null,
   "metadata": {},
   "outputs": [],
   "source": [
    "thumbsDown = df_label.where(df_label.page=='Thumbs Down').groupby(\"userId\").agg(count(col('page')).alias('ThumbsDown')).orderBy('userId')\n",
    "thumbsDown.show()"
   ]
  },
  {
   "cell_type": "code",
   "execution_count": null,
   "metadata": {},
   "outputs": [],
   "source": [
    "allThumbs = thumbsUp.join(thumbsDown,'userId')"
   ]
  },
  {
   "cell_type": "code",
   "execution_count": null,
   "metadata": {},
   "outputs": [],
   "source": [
    "df_features = df_features.join(allThumbs,'userId')"
   ]
  },
  {
   "cell_type": "code",
   "execution_count": 23,
   "metadata": {},
   "outputs": [],
   "source": [
    "days = df_label.groupby('userId').agg(((max(col('ts')) - min(col('ts')))/86400000).alias(\"Days\"))"
   ]
  },
  {
   "cell_type": "code",
   "execution_count": 27,
   "metadata": {},
   "outputs": [],
   "source": [
    "df_features = df_features.join(days,'userId')"
   ]
  },
  {
   "cell_type": "code",
   "execution_count": 30,
   "metadata": {},
   "outputs": [],
   "source": [
    "SongAddedToPlaylist = df_label.where(col('page')!='Add to Playlist').groupby(\"userId\").agg(count(col('page')).alias('SongAddedToPlaylist'))"
   ]
  },
  {
   "cell_type": "code",
   "execution_count": 31,
   "metadata": {},
   "outputs": [],
   "source": [
    "df_features = df_features.join(SongAddedToPlaylist,'userId')"
   ]
  },
  {
   "cell_type": "code",
   "execution_count": 32,
   "metadata": {},
   "outputs": [],
   "source": [
    "FreindAdded = df_label.where(col('page')!='Add Friend').groupby(\"userId\").agg(count(col('page')).alias('FreindAdded'))"
   ]
  },
  {
   "cell_type": "code",
   "execution_count": 33,
   "metadata": {},
   "outputs": [],
   "source": [
    "df_features = df_features.join(FreindAdded,'userId')"
   ]
  },
  {
   "cell_type": "code",
   "execution_count": 1,
   "metadata": {},
   "outputs": [],
   "source": [
    "# df_features.show()"
   ]
  },
  {
   "cell_type": "code",
   "execution_count": 38,
   "metadata": {},
   "outputs": [],
   "source": [
    "# Vectorize and scale features\n",
    "assembler = VectorAssembler(inputCols=[\"SongsPlayed\", \"ThumbsUp\", \"ThumbsDown\", \"Days\", \"SongAddedToPlaylist\", \"FreindAdded\"], \n",
    "                            outputCol=\"FeatureVector\")\n",
    "df_features = assembler.transform(df_features)"
   ]
  },
  {
   "cell_type": "code",
   "execution_count": 39,
   "metadata": {},
   "outputs": [],
   "source": [
    "scaler = StandardScaler(inputCol=\"FeatureVector\", outputCol=\"ScaledFeatures\", withStd=True)\n",
    "scalerModel = scaler.fit(df_features)\n",
    "df_features = scalerModel.transform(df_features)"
   ]
  },
  {
   "cell_type": "code",
   "execution_count": 62,
   "metadata": {},
   "outputs": [],
   "source": [
    "ConvertToInt = udf(lambda x: 1 if x==\"true\" else 0, IntegerType())\n",
    "df_features = df_features.withColumn('label', ConvertToInt(df_features.Churned))"
   ]
  },
  {
   "cell_type": "markdown",
   "metadata": {},
   "source": [
    "# Modeling\n",
    "Split the full dataset into train, test, and validation sets. Test out several of the machine learning methods you learned. Evaluate the accuracy of the various models, tuning parameters as necessary. Determine your winning model based on test accuracy and report results on the validation set. Since the churned users are a fairly small subset, I suggest using F1 score as the metric to optimize."
   ]
  },
  {
   "cell_type": "code",
   "execution_count": 64,
   "metadata": {},
   "outputs": [
    {
     "data": {
      "text/plain": [
       "[Row(label=0, features=DenseVector([0.2464, 0.2554, 0.3786, 2.5603, 0.2857, 0.2851]))]"
      ]
     },
     "execution_count": 64,
     "metadata": {},
     "output_type": "execute_result"
    }
   ],
   "source": [
    "df_model = df_features.select(col('label'),col('ScaledFeatures').alias('features'))\n",
    "df_model.take(1)"
   ]
  },
  {
   "cell_type": "code",
   "execution_count": 65,
   "metadata": {},
   "outputs": [],
   "source": [
    "train, test = df_model.randomSplit([0.8, 0.2], seed=50)"
   ]
  },
  {
   "cell_type": "code",
   "execution_count": 66,
   "metadata": {},
   "outputs": [],
   "source": [
    "logit = LogisticRegression(maxIter=10,regParam=0.0)\n",
    "gbt = GBTClassifier(maxDepth=5,maxIter=10,seed=50)"
   ]
  },
  {
   "cell_type": "code",
   "execution_count": 67,
   "metadata": {},
   "outputs": [],
   "source": [
    "# logistic\n",
    "el = MulticlassClassificationEvaluator(metricName='f1')\n",
    "paramGrid = ParamGridBuilder() \\\n",
    "    .addGrid(logit.regParam,[0.01, 0.05, 0.1]) \\\n",
    "    .build()\n",
    "crossval = CrossValidator(estimator=logit,\n",
    "                          estimatorParamMaps=paramGrid,\n",
    "                          evaluator=el,\n",
    "                          numFolds=3)"
   ]
  },
  {
   "cell_type": "code",
   "execution_count": 69,
   "metadata": {},
   "outputs": [
    {
     "data": {
      "text/plain": [
       "[0.8518888689299173, 0.8352876592586012, 0.8142416643159942]"
      ]
     },
     "execution_count": 69,
     "metadata": {},
     "output_type": "execute_result"
    }
   ],
   "source": [
    "cvModel_lr = crossval.fit(train)\n",
    "#report the f1 score \n",
    "cvModel_lr.avgMetrics"
   ]
  },
  {
   "cell_type": "code",
   "execution_count": 70,
   "metadata": {},
   "outputs": [],
   "source": [
    "#gradient boosted tree models\n",
    "e1 = MulticlassClassificationEvaluator(metricName='f1')\n",
    "paramGrid = ParamGridBuilder() \\\n",
    "    .addGrid(gbt.maxDepth,[2, 5, 10]) \\\n",
    "    .build()\n",
    "crossval = CrossValidator(estimator=gbt,\n",
    "                          estimatorParamMaps=paramGrid,\n",
    "                          evaluator=e1,\n",
    "                          numFolds=3)"
   ]
  },
  {
   "cell_type": "code",
   "execution_count": 71,
   "metadata": {},
   "outputs": [
    {
     "data": {
      "text/plain": [
       "[0.853390824984672, 0.8054334046770071, 0.8104963073752878]"
      ]
     },
     "execution_count": 71,
     "metadata": {},
     "output_type": "execute_result"
    }
   ],
   "source": [
    "cvModel_boost = crossval.fit(train)\n",
    "#report the f1 score \n",
    "cvModel_boost.avgMetrics"
   ]
  },
  {
   "cell_type": "markdown",
   "metadata": {},
   "source": [
    "# Final Steps\n",
    "Clean up your code, adding comments and renaming variables to make the code easier to read and maintain. Refer to the Spark Project Overview page and Data Scientist Capstone Project Rubric to make sure you are including all components of the capstone project and meet all expectations. Remember, this includes thorough documentation in a README file in a Github repository, as well as a web app or blog post."
   ]
  }
 ],
 "metadata": {
  "kernelspec": {
   "display_name": "Python 3",
   "language": "python",
   "name": "python3"
  },
  "language_info": {
   "codemirror_mode": {
    "name": "ipython",
    "version": 3
   },
   "file_extension": ".py",
   "mimetype": "text/x-python",
   "name": "python",
   "nbconvert_exporter": "python",
   "pygments_lexer": "ipython3",
   "version": "3.6.3"
  }
 },
 "nbformat": 4,
 "nbformat_minor": 2
}
